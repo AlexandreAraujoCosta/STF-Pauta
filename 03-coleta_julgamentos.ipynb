{
 "cells": [
  {
   "cell_type": "code",
   "execution_count": 1,
   "metadata": {},
   "outputs": [],
   "source": [
    "import json\n",
    "import urllib3\n",
    "\n",
    "import crawler\n",
    "import helpers\n",
    "from helpers import DATA_PATH\n",
    "\n",
    "urllib3.disable_warnings()"
   ]
  },
  {
   "cell_type": "markdown",
   "metadata": {},
   "source": [
    "# Coleta info virtuais"
   ]
  },
  {
   "cell_type": "code",
   "execution_count": 2,
   "metadata": {},
   "outputs": [],
   "source": [
    "pautas_virtuais = helpers.load_json_from_zip('pautas_virtuais')"
   ]
  },
  {
   "cell_type": "markdown",
   "metadata": {},
   "source": [
    "Abre pautas para coeltar IDs das listas"
   ]
  },
  {
   "cell_type": "code",
   "execution_count": 3,
   "metadata": {},
   "outputs": [],
   "source": [
    "listas_virtuais = list()\n",
    "\n",
    "for pauta in pautas_virtuais:\n",
    "    for pauta_col in pauta[\"colegiados\"]:\n",
    "        for sessao in pauta_col[\"sessoes\"]:\n",
    "            for lista in sessao[\"listas\"]:\n",
    "                for ministro in lista[\"ministros\"]:\n",
    "                    for lista_julgamento in ministro[\"listaJulgamento\"]:\n",
    "                        listas_virtuais.append(lista_julgamento)"
   ]
  },
  {
   "cell_type": "markdown",
   "metadata": {},
   "source": [
    "## Coleta informação de listas virtuais e obtem sois unicos"
   ]
  },
  {
   "cell_type": "markdown",
   "metadata": {},
   "source": [
    "Essa coleta levou mais de 10 horas para ser executada"
   ]
  },
  {
   "cell_type": "code",
   "execution_count": 4,
   "metadata": {},
   "outputs": [],
   "source": [
    "sois_em_lista = crawler.collect_composicao_listas(listas_virtuais)"
   ]
  },
  {
   "cell_type": "code",
   "execution_count": 10,
   "metadata": {},
   "outputs": [],
   "source": [
    "with open(DATA_PATH / 'sois_em_lista.json', 'w') as f:\n",
    "    json.dump(list(sois_em_lista), f)"
   ]
  },
  {
   "cell_type": "markdown",
   "metadata": {},
   "source": [
    "## Coleta informação de votações de cada SOI"
   ]
  },
  {
   "cell_type": "code",
   "execution_count": 2,
   "metadata": {},
   "outputs": [],
   "source": [
    "with open(DATA_PATH / 'sois_em_lista.json', 'r') as f:\n",
    "    sois_em_lista = json.load(f)"
   ]
  },
  {
   "cell_type": "code",
   "execution_count": 3,
   "metadata": {},
   "outputs": [],
   "source": [
    "info_vots = crawler.collect_votacoes_sois(sois_em_lista)"
   ]
  },
  {
   "cell_type": "code",
   "execution_count": null,
   "metadata": {},
   "outputs": [],
   "source": []
  }
 ],
 "metadata": {
  "kernelspec": {
   "display_name": "eda",
   "language": "python",
   "name": "python3"
  },
  "language_info": {
   "codemirror_mode": {
    "name": "ipython",
    "version": 3
   },
   "file_extension": ".py",
   "mimetype": "text/x-python",
   "name": "python",
   "nbconvert_exporter": "python",
   "pygments_lexer": "ipython3",
   "version": "3.10.8"
  },
  "orig_nbformat": 4
 },
 "nbformat": 4,
 "nbformat_minor": 2
}
