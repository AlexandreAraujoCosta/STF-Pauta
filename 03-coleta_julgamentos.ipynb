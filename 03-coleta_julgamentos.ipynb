{
 "cells": [
  {
   "cell_type": "code",
   "execution_count": 3,
   "metadata": {},
   "outputs": [],
   "source": [
    "import json\n",
    "import urllib3\n",
    "from pathlib import Path\n",
    "\n",
    "import crawler\n",
    "import helpers\n",
    "from helpers import DATA_PATH\n",
    "\n",
    "urllib3.disable_warnings()"
   ]
  },
  {
   "cell_type": "markdown",
   "metadata": {},
   "source": [
    "# Coleta info virtuais"
   ]
  },
  {
   "cell_type": "code",
   "execution_count": 4,
   "metadata": {},
   "outputs": [],
   "source": [
    "pautas_virtuais = helpers.load_json_from_zip('pautas_virtuais')"
   ]
  },
  {
   "cell_type": "markdown",
   "metadata": {},
   "source": [
    "Abre pautas para coeltar IDs das listas"
   ]
  },
  {
   "cell_type": "code",
   "execution_count": 3,
   "metadata": {},
   "outputs": [],
   "source": [
    "listas_virtuais = list()\n",
    "\n",
    "for pauta in pautas_virtuais:\n",
    "    for pauta_col in pauta[\"colegiados\"]:\n",
    "        for sessao in pauta_col[\"sessoes\"]:\n",
    "            for lista in sessao[\"listas\"]:\n",
    "                for ministro in lista[\"ministros\"]:\n",
    "                    for lista_julgamento in ministro[\"listaJulgamento\"]:\n",
    "                        listas_virtuais.append(lista_julgamento)"
   ]
  },
  {
   "cell_type": "markdown",
   "metadata": {},
   "source": [
    "## Coleta informação de listas virtuais e obtem sois unicos"
   ]
  },
  {
   "cell_type": "markdown",
   "metadata": {},
   "source": [
    "Essa coleta levou mais de 10 horas para ser executada"
   ]
  },
  {
   "cell_type": "code",
   "execution_count": 4,
   "metadata": {},
   "outputs": [],
   "source": [
    "sois_em_lista = crawler.collect_composicao_listas(listas_virtuais)"
   ]
  },
  {
   "cell_type": "code",
   "execution_count": 10,
   "metadata": {},
   "outputs": [],
   "source": [
    "with open(DATA_PATH / 'sois_em_lista.json', 'w') as f:\n",
    "    json.dump(list(sois_em_lista), f)"
   ]
  },
  {
   "cell_type": "markdown",
   "metadata": {},
   "source": [
    "## Coleta informação de votações de cada SOI"
   ]
  },
  {
   "cell_type": "code",
   "execution_count": 5,
   "metadata": {},
   "outputs": [],
   "source": [
    "with open(DATA_PATH / 'sois_em_lista.json', 'r') as f:\n",
    "    sois_em_lista = json.load(f)"
   ]
  },
  {
   "cell_type": "code",
   "execution_count": 3,
   "metadata": {},
   "outputs": [
    {
     "name": "stdout",
     "output_type": "stream",
     "text": [
      "Erro ao coletar votacoes: 6655148 ('Connection aborted.', ConnectionResetError(104, 'Connection reset by peer'))\n"
     ]
    }
   ],
   "source": [
    "ids_votacoes = crawler.collect_votacoes_sois(sois_em_lista)"
   ]
  },
  {
   "cell_type": "code",
   "execution_count": 6,
   "metadata": {},
   "outputs": [],
   "source": [
    "# load ids_votacoes from file\n",
    "vots = helpers.load_json_from_zip(\"votacoes_proc\")\n",
    "ids_vots = {v[\"objetoIncidente\"][\"id\"] for v in vots if not v.get(\"error_status_code\")}"
   ]
  },
  {
   "cell_type": "code",
   "execution_count": 7,
   "metadata": {},
   "outputs": [
    {
     "data": {
      "text/plain": [
       "105813"
      ]
     },
     "execution_count": 7,
     "metadata": {},
     "output_type": "execute_result"
    }
   ],
   "source": [
    "len(ids_vots)"
   ]
  },
  {
   "cell_type": "code",
   "execution_count": 8,
   "metadata": {},
   "outputs": [
    {
     "name": "stdout",
     "output_type": "stream",
     "text": [
      "Erro ao coletar info votacao: 6011679 ('Connection aborted.', RemoteDisconnected('Remote end closed connection without response'))\n",
      "Erro ao coletar info votacao: 5227110 ('Connection aborted.', RemoteDisconnected('Remote end closed connection without response'))\n",
      "Erro ao coletar info votacao: 5228228 ('Connection aborted.', RemoteDisconnected('Remote end closed connection without response'))\n",
      "Erro ao coletar info votacao: 6015031 ('Connection aborted.', RemoteDisconnected('Remote end closed connection without response'))\n",
      "Erro ao coletar info votacao: 5230166 ('Connection aborted.', RemoteDisconnected('Remote end closed connection without response'))\n",
      "Erro ao coletar info votacao: 6282716 ('Connection aborted.', RemoteDisconnected('Remote end closed connection without response'))\n",
      "Erro ao coletar info votacao: 6545103 Expecting value: line 1 column 1 (char 0)\n",
      "Erro ao coletar info votacao: 6545435 HTTPSConnectionPool(host='sistemas.stf.jus.br', port=443): Max retries exceeded with url: /repgeral/votacao?sessaoVirtual=6545435 (Caused by SSLError(SSLEOFError(8, 'EOF occurred in violation of protocol (_ssl.c:997)')))\n",
      "Erro ao coletar info votacao: 5497341 ('Connection aborted.', RemoteDisconnected('Remote end closed connection without response'))\n",
      "Erro ao coletar info votacao: 5759904 ('Connection aborted.', RemoteDisconnected('Remote end closed connection without response'))\n",
      "Erro ao coletar info votacao: 5236044 ('Connection aborted.', RemoteDisconnected('Remote end closed connection without response'))\n",
      "Erro ao coletar info votacao: 4975754 ('Connection aborted.', RemoteDisconnected('Remote end closed connection without response'))\n",
      "Erro ao coletar info votacao: 5763530 ('Connection aborted.', RemoteDisconnected('Remote end closed connection without response'))\n",
      "Erro ao coletar info votacao: 5765908 ('Connection aborted.', RemoteDisconnected('Remote end closed connection without response'))\n",
      "Erro ao coletar info votacao: 5766410 ('Connection aborted.', RemoteDisconnected('Remote end closed connection without response'))\n"
     ]
    }
   ],
   "source": [
    "info_vots = crawler.collect_info_votacoes(ids_vots)"
   ]
  },
  {
   "cell_type": "code",
   "execution_count": 17,
   "metadata": {},
   "outputs": [],
   "source": [
    "# list collected ids\n",
    "collected = (DATA_PATH / \"info_votacoes\").glob(\"*.json\")\n",
    "collected = {int(f.stem) for f in collected}\n",
    "not_collected = ids_vots - collected"
   ]
  },
  {
   "cell_type": "markdown",
   "metadata": {},
   "source": [
    "Recoletando casos com erro"
   ]
  },
  {
   "cell_type": "code",
   "execution_count": 23,
   "metadata": {},
   "outputs": [
    {
     "data": {
      "text/plain": [
       "[]"
      ]
     },
     "execution_count": 23,
     "metadata": {},
     "output_type": "execute_result"
    }
   ],
   "source": [
    "missing = crawler.collect_info_votacoes(not_collected)"
   ]
  },
  {
   "cell_type": "markdown",
   "metadata": {},
   "source": [
    "Fixing error in collection - ISSO APAGA O ARQUIVO ANTERIOR REFORMULAR"
   ]
  },
  {
   "cell_type": "code",
   "execution_count": 22,
   "metadata": {},
   "outputs": [
    {
     "data": {
      "text/plain": [
       "{6659086}"
      ]
     },
     "execution_count": 22,
     "metadata": {},
     "output_type": "execute_result"
    }
   ],
   "source": [
    "missing"
   ]
  }
 ],
 "metadata": {
  "kernelspec": {
   "display_name": "eda",
   "language": "python",
   "name": "python3"
  },
  "language_info": {
   "codemirror_mode": {
    "name": "ipython",
    "version": 3
   },
   "file_extension": ".py",
   "mimetype": "text/x-python",
   "name": "python",
   "nbconvert_exporter": "python",
   "pygments_lexer": "ipython3",
   "version": "3.10.8"
  },
  "orig_nbformat": 4
 },
 "nbformat": 4,
 "nbformat_minor": 2
}
