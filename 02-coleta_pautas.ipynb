{
 "cells": [
  {
   "cell_type": "code",
   "execution_count": 11,
   "metadata": {},
   "outputs": [],
   "source": [
    "import json\n",
    "import zipfile\n",
    "\n",
    "import urllib3\n",
    "\n",
    "import crawler\n",
    "import helpers\n",
    "from helpers import DATA_PATH\n",
    "\n",
    "urllib3.disable_warnings()"
   ]
  },
  {
   "cell_type": "code",
   "execution_count": 2,
   "metadata": {},
   "outputs": [],
   "source": [
    "with open(DATA_PATH / \"processos_pautados.json\", \"r\") as f:\n",
    "    pautas = json.load(f)"
   ]
  },
  {
   "cell_type": "code",
   "execution_count": 3,
   "metadata": {},
   "outputs": [],
   "source": [
    "datas_ses_presencial = []\n",
    "ses_virtual = []\n",
    "\n",
    "for pautas_mes in pautas:\n",
    "    mes = pautas_mes[\"mes\"]\n",
    "    ano = pautas_mes[\"ano\"]\n",
    "    datas_ses_presencial.extend(\n",
    "        [f\"{str(d).zfill(2)}/{mes}/{ano}\" for d in pautas_mes[\"diasPresenciais\"]]\n",
    "    )\n",
    "\n",
    "    ses_virtual.extend(pautas_mes[\"julgamentosVirtuais\"])"
   ]
  },
  {
   "cell_type": "markdown",
   "metadata": {},
   "source": [
    "# Coletando sessões virtuais"
   ]
  },
  {
   "cell_type": "code",
   "execution_count": 8,
   "metadata": {},
   "outputs": [],
   "source": [
    "pautas_virtuais = []"
   ]
  },
  {
   "cell_type": "code",
   "execution_count": 9,
   "metadata": {},
   "outputs": [],
   "source": [
    "for pauta in ses_virtual:\n",
    "    pautas_virtuais.append(crawler.get_pauta_virtual(pauta))\n",
    "\n",
    "helpers.save_to_json(pautas_virtuais, \"pautas_virtuais\")"
   ]
  },
  {
   "cell_type": "markdown",
   "metadata": {},
   "source": [
    "# coletando sessões presenciais"
   ]
  },
  {
   "cell_type": "code",
   "execution_count": 14,
   "metadata": {},
   "outputs": [],
   "source": [
    "pautas_pres = []\n",
    "\n",
    "for data in datas_ses_presencial:\n",
    "    pauta = crawler.get_pauta_presencial(data)\n",
    "    pautas_pres.append(pauta)\n",
    "\n",
    "helpers.save_to_json(pautas_pres, \"pautas_presenciais\")"
   ]
  }
 ],
 "metadata": {
  "kernelspec": {
   "display_name": "eda",
   "language": "python",
   "name": "python3"
  },
  "language_info": {
   "codemirror_mode": {
    "name": "ipython",
    "version": 3
   },
   "file_extension": ".py",
   "mimetype": "text/x-python",
   "name": "python",
   "nbconvert_exporter": "python",
   "pygments_lexer": "ipython3",
   "version": "3.10.8"
  },
  "orig_nbformat": 4
 },
 "nbformat": 4,
 "nbformat_minor": 2
}
