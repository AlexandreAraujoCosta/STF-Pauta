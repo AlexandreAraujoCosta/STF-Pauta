{
 "cells": [
  {
   "cell_type": "code",
   "execution_count": 1,
   "metadata": {},
   "outputs": [],
   "source": [
    "import json\n",
    "import zipfile\n",
    "\n",
    "import urllib3\n",
    "import pandas as pd\n",
    "\n",
    "import crawler\n",
    "import helpers\n",
    "from helpers import DATA_PATH\n",
    "\n",
    "urllib3.disable_warnings()"
   ]
  },
  {
   "cell_type": "code",
   "execution_count": 2,
   "metadata": {},
   "outputs": [],
   "source": [
    "with open(DATA_PATH / \"processos_pautados.json\", \"r\") as f:\n",
    "    pautas = json.load(f)"
   ]
  },
  {
   "cell_type": "code",
   "execution_count": 3,
   "metadata": {},
   "outputs": [],
   "source": [
    "datas_ses_presencial = []\n",
    "ses_virtual = []\n",
    "\n",
    "for pautas_mes in pautas:\n",
    "    mes = pautas_mes[\"mes\"]\n",
    "    ano = pautas_mes[\"ano\"]\n",
    "    datas_ses_presencial.extend(\n",
    "        [f\"{str(d).zfill(2)}/{mes}/{ano}\" for d in pautas_mes[\"diasPresenciais\"]]\n",
    "    )\n",
    "\n",
    "    ses_virtual.extend(pautas_mes[\"julgamentosVirtuais\"])"
   ]
  },
  {
   "cell_type": "markdown",
   "metadata": {},
   "source": [
    "# Carregando sessões já coletadas\n",
    "\n",
    "Essa parte assume que não há alterações nas pastas já coletadas."
   ]
  },
  {
   "cell_type": "code",
   "execution_count": 4,
   "metadata": {},
   "outputs": [],
   "source": [
    "col_pres = helpers.load_json_from_zip(\"pautas_presenciais\")\n",
    "col_virtuais = helpers.load_json_from_zip(\"pautas_virtuais\")"
   ]
  },
  {
   "cell_type": "markdown",
   "metadata": {},
   "source": [
    "Sessões presenciais são identificadas pela data. Assim, podemos remover todas as já coletadas."
   ]
  },
  {
   "cell_type": "code",
   "execution_count": 5,
   "metadata": {},
   "outputs": [],
   "source": [
    "pres_to_collect = set(datas_ses_presencial) - set([s.get(\"data\") for s in col_pres])"
   ]
  },
  {
   "cell_type": "markdown",
   "metadata": {},
   "source": [
    "Sessões virtuais são identificadas pelo conjunto da data de início e data de fim."
   ]
  },
  {
   "cell_type": "code",
   "execution_count": 6,
   "metadata": {},
   "outputs": [],
   "source": [
    "virt_to_collect = set(\n",
    "    [(s.get(\"dataInicial\", \"\"), s.get(\"dataFinal\", \"\")) for s in ses_virtual]\n",
    ") - set([(s.get(\"inicio\", \"\"), s.get(\"fim\", \"\")) for s in col_virtuais])"
   ]
  },
  {
   "cell_type": "markdown",
   "metadata": {},
   "source": [
    "# Coletando sessões virtuais"
   ]
  },
  {
   "cell_type": "code",
   "execution_count": 7,
   "metadata": {},
   "outputs": [],
   "source": [
    "pautas_virtuais = col_virtuais"
   ]
  },
  {
   "cell_type": "code",
   "execution_count": 8,
   "metadata": {},
   "outputs": [],
   "source": [
    "for pauta in virt_to_collect:\n",
    "    pauta = {\"inicio\": pauta[0], \"fim\": pauta[1]}\n",
    "    pautas_virtuais.append(crawler.get_pauta_virtual(pauta))"
   ]
  },
  {
   "cell_type": "code",
   "execution_count": 9,
   "metadata": {},
   "outputs": [],
   "source": [
    "helpers.save_json_to_zip(pautas_virtuais, \"pautas_virtuais\")"
   ]
  },
  {
   "cell_type": "markdown",
   "metadata": {},
   "source": [
    "# coletando sessões presenciais"
   ]
  },
  {
   "cell_type": "code",
   "execution_count": 10,
   "metadata": {},
   "outputs": [],
   "source": [
    "pautas_pres = col_pres\n",
    "\n",
    "for data in pres_to_collect:\n",
    "    pauta = crawler.get_pauta_presencial(data)\n",
    "    pautas_pres.append(pauta)\n",
    "\n"
   ]
  },
  {
   "cell_type": "code",
   "execution_count": 11,
   "metadata": {},
   "outputs": [],
   "source": [
    "helpers.save_json_to_zip(pautas_pres, \"pautas_presenciais\")"
   ]
  }
 ],
 "metadata": {
  "kernelspec": {
   "display_name": "eda",
   "language": "python",
   "name": "python3"
  },
  "language_info": {
   "codemirror_mode": {
    "name": "ipython",
    "version": 3
   },
   "file_extension": ".py",
   "mimetype": "text/x-python",
   "name": "python",
   "nbconvert_exporter": "python",
   "pygments_lexer": "ipython3",
   "version": "3.10.8"
  },
  "orig_nbformat": 4
 },
 "nbformat": 4,
 "nbformat_minor": 2
}
