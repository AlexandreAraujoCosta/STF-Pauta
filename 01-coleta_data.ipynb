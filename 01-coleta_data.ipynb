{
 "cells": [
  {
   "cell_type": "code",
   "execution_count": 1,
   "metadata": {},
   "outputs": [],
   "source": [
    "import json\n",
    "import time\n",
    "import urllib3\n",
    "\n",
    "from crawler import get\n",
    "from helpers import DATA_PATH\n",
    "\n",
    "urllib3.disable_warnings()"
   ]
  },
  {
   "cell_type": "code",
   "execution_count": 2,
   "metadata": {},
   "outputs": [],
   "source": [
    "ano_inicio = 2003\n",
    "ano_fim = 2024\n",
    "\n",
    "processos_pautados = []"
   ]
  },
  {
   "cell_type": "code",
   "execution_count": 4,
   "metadata": {},
   "outputs": [
    {
     "name": "stdout",
     "output_type": "stream",
     "text": [
      "Coletando dados de 2003...\n",
      "Coletando dados de 2004...\n",
      "Coletando dados de 2005...\n",
      "Coletando dados de 2006...\n",
      "Coletando dados de 2007...\n",
      "Coletando dados de 2008...\n",
      "Coletando dados de 2009...\n",
      "Coletando dados de 2010...\n",
      "Coletando dados de 2011...\n",
      "Coletando dados de 2012...\n",
      "Coletando dados de 2013...\n",
      "Coletando dados de 2014...\n",
      "Coletando dados de 2015...\n",
      "Coletando dados de 2016...\n",
      "Coletando dados de 2017...\n",
      "Coletando dados de 2018...\n",
      "Coletando dados de 2019...\n",
      "Coletando dados de 2020...\n",
      "Coletando dados de 2021...\n",
      "Coletando dados de 2022...\n",
      "Coletando dados de 2023...\n",
      "Coletando dados de 2024...\n"
     ]
    }
   ],
   "source": [
    "import random\n",
    "\n",
    "\n",
    "for ano in range(ano_inicio, ano_fim+1):\n",
    "    print(f'Coletando dados de {ano}...')\n",
    "    for mes in range(1, 13):\n",
    "        # zero pad month\n",
    "        mes = str(mes).zfill(2)\n",
    "        url = f\"https://portal.stf.jus.br/pauta/services/calendario-service.asp?dados=calendarios&mes={mes}&ano={ano}\"\n",
    "        response = get(url)\n",
    "        json_response = response\n",
    "        # checando se há processos pautados\n",
    "        if json_response[\"diasPresenciais\"] == [] and json_response[\"julgamentosVirtuais\"] == []:\n",
    "            continue\n",
    "        else:\n",
    "            json_response[\"ano\"] = ano\n",
    "            json_response[\"mes\"] = mes\n",
    "            processos_pautados.append(json_response)\n",
    "        random_time = random.randint(1, 3)\n",
    "    time.sleep(10)"
   ]
  },
  {
   "cell_type": "code",
   "execution_count": 5,
   "metadata": {},
   "outputs": [],
   "source": [
    "data = time.strftime(\"%Y-%m-%d\")\n",
    "with open(DATA_PATH/f\"processos_pautados.json\", 'w') as f:\n",
    "    json.dump(processos_pautados, f, indent=4, ensure_ascii=False)"
   ]
  },
  {
   "cell_type": "code",
   "execution_count": null,
   "metadata": {},
   "outputs": [],
   "source": []
  }
 ],
 "metadata": {
  "kernelspec": {
   "display_name": "eda",
   "language": "python",
   "name": "python3"
  },
  "language_info": {
   "codemirror_mode": {
    "name": "ipython",
    "version": 3
   },
   "file_extension": ".py",
   "mimetype": "text/x-python",
   "name": "python",
   "nbconvert_exporter": "python",
   "pygments_lexer": "ipython3",
   "version": "3.10.8"
  }
 },
 "nbformat": 4,
 "nbformat_minor": 2
}
