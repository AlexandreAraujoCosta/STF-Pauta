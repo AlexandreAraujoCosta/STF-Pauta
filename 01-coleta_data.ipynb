{
 "cells": [
  {
   "cell_type": "code",
   "execution_count": 6,
   "metadata": {},
   "outputs": [],
   "source": [
    "import time\n",
    "import urllib3\n",
    "\n",
    "from crawler import get\n",
    "from helpers import DATA_PATH\n",
    "\n",
    "urllib3.disable_warnings()"
   ]
  },
  {
   "cell_type": "code",
   "execution_count": 2,
   "metadata": {},
   "outputs": [],
   "source": [
    "ano_inicio = 2003\n",
    "ano_fim = 2023\n",
    "\n",
    "processos_pautados = []"
   ]
  },
  {
   "cell_type": "code",
   "execution_count": 7,
   "metadata": {},
   "outputs": [
    {
     "name": "stdout",
     "output_type": "stream",
     "text": [
      "Coletando dados de 2003...\n",
      "Coletando dados de 2004...\n",
      "Coletando dados de 2005...\n",
      "Coletando dados de 2006...\n",
      "Coletando dados de 2007...\n",
      "Coletando dados de 2008...\n",
      "Coletando dados de 2009...\n"
     ]
    }
   ],
   "source": [
    "for ano in range(ano_inicio, ano_fim+1):\n",
    "    print(f'Coletando dados de {ano}...')\n",
    "    for mes in range(1, 13):\n",
    "        # zero pad month\n",
    "        mes = str(mes).zfill(2)\n",
    "        url = f\"https://portal.stf.jus.br/pauta/services/calendario-service.asp?dados=calendarios&mes={mes}&ano={ano}\"\n",
    "        response = get(url)\n",
    "        json_response = response.json()\n",
    "        # checando se há processos pautados\n",
    "        if json_response[\"diasPresenciais\"] == [] and json_response[\"julgamentosVirtuais\"] == []:\n",
    "            continue\n",
    "        else:\n",
    "            processos_pautados.append(json_response)\n",
    "    time.sleep(30)"
   ]
  },
  {
   "cell_type": "code",
   "execution_count": 4,
   "metadata": {},
   "outputs": [
    {
     "data": {
      "text/plain": [
       "[{'diasPresenciais': [], 'julgamentosVirtuais': []},\n",
       " {'diasPresenciais': [], 'julgamentosVirtuais': []},\n",
       " {'diasPresenciais': [], 'julgamentosVirtuais': []},\n",
       " {'diasPresenciais': [], 'julgamentosVirtuais': []},\n",
       " {'diasPresenciais': [], 'julgamentosVirtuais': []},\n",
       " {'diasPresenciais': [], 'julgamentosVirtuais': []},\n",
       " {'diasPresenciais': [], 'julgamentosVirtuais': []},\n",
       " {'diasPresenciais': [], 'julgamentosVirtuais': []},\n",
       " {'diasPresenciais': [], 'julgamentosVirtuais': []},\n",
       " {'diasPresenciais': [], 'julgamentosVirtuais': []},\n",
       " {'diasPresenciais': [], 'julgamentosVirtuais': []},\n",
       " {'diasPresenciais': [], 'julgamentosVirtuais': []}]"
      ]
     },
     "execution_count": 4,
     "metadata": {},
     "output_type": "execute_result"
    }
   ],
   "source": [
    "processos_pautados"
   ]
  }
 ],
 "metadata": {
  "kernelspec": {
   "display_name": "eda",
   "language": "python",
   "name": "python3"
  },
  "language_info": {
   "codemirror_mode": {
    "name": "ipython",
    "version": 3
   },
   "file_extension": ".py",
   "mimetype": "text/x-python",
   "name": "python",
   "nbconvert_exporter": "python",
   "pygments_lexer": "ipython3",
   "version": "3.10.12"
  }
 },
 "nbformat": 4,
 "nbformat_minor": 2
}
